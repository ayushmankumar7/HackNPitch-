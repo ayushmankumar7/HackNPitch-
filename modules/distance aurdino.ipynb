{
 "cells": [
  {
   "cell_type": "code",
   "execution_count": 12,
   "metadata": {},
   "outputs": [],
   "source": [
    "import serial\n",
    "import firebase_admin\n",
    "import time\n",
    "import datetime\n",
    "import ast\n",
    "from firebase_admin import firestore\n",
    "from firebase_admin import credentials"
   ]
  },
  {
   "cell_type": "code",
   "execution_count": 13,
   "metadata": {},
   "outputs": [],
   "source": [
    "if (not len(firebase_admin._apps)):\n",
    "    \n",
    "    cred = credentials.Certificate(\"measure-distance-ac87a-firebase-adminsdk-7fb2c-36a9368d56.json\")\n",
    "\n",
    "    default_app = firebase_admin.initialize_app(cred,\n",
    "        {'projectID': 'measure-distance-ac87a'\n",
    "        })\n",
    "\n",
    "db = firestore.client()\n",
    "\n",
    "ref = db.collection(u'data')\n",
    "\n",
    "\n",
    "arduino = serial.Serial('COM3', 9600, timeout=.1)\n",
    "count = False;\n",
    "count2 = False;"
   ]
  },
  {
   "cell_type": "code",
   "execution_count": 14,
   "metadata": {
    "scrolled": false
   },
   "outputs": [
    {
     "name": "stdout",
     "output_type": "stream",
     "text": [
      "0\n",
      "178\n",
      "1\n",
      "183\n",
      "2\n",
      "183\n",
      "3\n",
      "183\n",
      "4\n",
      "184\n",
      "5\n",
      "183\n",
      "6\n",
      "183\n",
      "7\n",
      "183\n",
      "8\n",
      "183\n",
      "9\n",
      "183\n"
     ]
    }
   ],
   "source": [
    "for i in range(10):\n",
    "    print(i)\n",
    "    \n",
    "    data = arduino.readline()[:-2].decode(\"utf-8\").split()\n",
    "    print(data[1])\n",
    "    \n",
    "    ref.document(str(i)).set({u'distance':data[1]})"
   ]
  },
  {
   "cell_type": "code",
   "execution_count": 79,
   "metadata": {},
   "outputs": [
    {
     "data": {
      "text/plain": [
       "Serial<id=0x25296ee00c8, open=True>(port='COM3', baudrate=9600, bytesize=8, parity='N', stopbits=1, timeout=0.1, xonxoff=False, rtscts=False, dsrdtr=False)"
      ]
     },
     "execution_count": 79,
     "metadata": {},
     "output_type": "execute_result"
    }
   ],
   "source": [
    "# arduino"
   ]
  },
  {
   "cell_type": "code",
   "execution_count": null,
   "metadata": {},
   "outputs": [],
   "source": []
  },
  {
   "cell_type": "code",
   "execution_count": null,
   "metadata": {},
   "outputs": [],
   "source": []
  },
  {
   "cell_type": "code",
   "execution_count": null,
   "metadata": {},
   "outputs": [],
   "source": []
  }
 ],
 "metadata": {
  "kernelspec": {
   "display_name": "Python 3",
   "language": "python",
   "name": "python3"
  },
  "language_info": {
   "codemirror_mode": {
    "name": "ipython",
    "version": 3
   },
   "file_extension": ".py",
   "mimetype": "text/x-python",
   "name": "python",
   "nbconvert_exporter": "python",
   "pygments_lexer": "ipython3",
   "version": "3.6.9"
  }
 },
 "nbformat": 4,
 "nbformat_minor": 2
}
