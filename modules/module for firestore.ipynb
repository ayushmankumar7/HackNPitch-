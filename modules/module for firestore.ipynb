{
 "cells": [
  {
   "cell_type": "code",
   "execution_count": 19,
   "metadata": {},
   "outputs": [],
   "source": [
    "import google.cloud\n",
    "import serial\n",
    "import firebase_admin\n",
    "import time\n",
    "import datetime\n",
    "import ast\n",
    "from firebase_admin import firestore\n",
    "from firebase_admin import credentials\n",
    "\n",
    "if (not len(firebase_admin._apps)):\n",
    "    \n",
    "    cred = credentials.Certificate(\"measure-distance-ac87a-firebase-adminsdk-7fb2c-36a9368d56.json\")\n",
    "\n",
    "    default_app = firebase_admin.initialize_app(cred,\n",
    "        {'projectID': 'measure-distance-ac87a'\n",
    "        })\n",
    "\n",
    "db = firestore.client()\n",
    "\n",
    "ref = db.collection(u'person')"
   ]
  },
  {
   "cell_type": "code",
   "execution_count": 18,
   "metadata": {},
   "outputs": [
    {
     "name": "stderr",
     "output_type": "stream",
     "text": [
      "C:\\ProgramData\\Anaconda3\\lib\\site-packages\\ipykernel_launcher.py:2: DeprecationWarning: 'Collection.get' is deprecated:  please use 'Collection.stream' instead.\n",
      "  \n"
     ]
    },
    {
     "name": "stdout",
     "output_type": "stream",
     "text": [
      "Doc Data:{'name': 'test', 'added': 'just now'}\n",
      "Doc Data:{'name': 'test', 'added': 'just now'}\n"
     ]
    },
    {
     "data": {
      "text/plain": [
       "(seconds: 1582981781\n",
       " nanos: 597804000,\n",
       " <google.cloud.firestore_v1.document.DocumentReference at 0x1dd2622ac08>)"
      ]
     },
     "execution_count": 18,
     "metadata": {},
     "output_type": "execute_result"
    }
   ],
   "source": [
    "try:\n",
    "    docs = ref.get()\n",
    "    for doc in docs:\n",
    "        print(u'Doc Data:{}'.format(doc.to_dict()))\n",
    "except google.cloud.exceptions.NotFound:\n",
    "    print(u'Missing data')\n",
    "    \n",
    "ref = db.collection(u'test')\n",
    "ref.add({u'name': u'test', u'added': u'just now'})"
   ]
  },
  {
   "cell_type": "code",
   "execution_count": null,
   "metadata": {},
   "outputs": [],
   "source": []
  }
 ],
 "metadata": {
  "kernelspec": {
   "display_name": "Python 3",
   "language": "python",
   "name": "python3"
  },
  "language_info": {
   "codemirror_mode": {
    "name": "ipython",
    "version": 3
   },
   "file_extension": ".py",
   "mimetype": "text/x-python",
   "name": "python",
   "nbconvert_exporter": "python",
   "pygments_lexer": "ipython3",
   "version": "3.6.9"
  }
 },
 "nbformat": 4,
 "nbformat_minor": 2
}
